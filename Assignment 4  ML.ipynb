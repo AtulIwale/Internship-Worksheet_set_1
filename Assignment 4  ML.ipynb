{
 "cells": [
  {
   "cell_type": "markdown",
   "id": "940d44a4",
   "metadata": {},
   "source": [
    "1) D"
   ]
  },
  {
   "cell_type": "markdown",
   "id": "4142383b",
   "metadata": {},
   "source": [
    "2) A"
   ]
  },
  {
   "cell_type": "markdown",
   "id": "4678fbaa",
   "metadata": {},
   "source": [
    "3) B"
   ]
  },
  {
   "cell_type": "markdown",
   "id": "8da0adc1",
   "metadata": {},
   "source": [
    "4) B"
   ]
  },
  {
   "cell_type": "markdown",
   "id": "291dd08d",
   "metadata": {},
   "source": [
    "5) C"
   ]
  },
  {
   "cell_type": "markdown",
   "id": "4043e9b9",
   "metadata": {},
   "source": [
    "6) B"
   ]
  },
  {
   "cell_type": "markdown",
   "id": "37865f19",
   "metadata": {},
   "source": [
    "7) D"
   ]
  },
  {
   "cell_type": "markdown",
   "id": "77ca8c91",
   "metadata": {},
   "source": [
    "8) D"
   ]
  },
  {
   "cell_type": "markdown",
   "id": "e0538dd1",
   "metadata": {},
   "source": [
    "9) A"
   ]
  },
  {
   "cell_type": "markdown",
   "id": "6bace4e1",
   "metadata": {},
   "source": [
    "10) B"
   ]
  },
  {
   "cell_type": "markdown",
   "id": "6c06af9a",
   "metadata": {},
   "source": [
    "11) A"
   ]
  },
  {
   "cell_type": "markdown",
   "id": "5660fa64",
   "metadata": {},
   "source": [
    "12) B"
   ]
  },
  {
   "cell_type": "markdown",
   "id": "b64735da",
   "metadata": {},
   "source": [
    "13) Regularization refers to a techniques used in ML to prevent overfitting & Underfitting and improve performance of a model. "
   ]
  },
  {
   "cell_type": "markdown",
   "id": "c8801616",
   "metadata": {},
   "source": [
    "14) \n",
    "- Ridge (L2) regularization\n",
    "- Lasso (L1) regularization\n",
    "- Elastic Net"
   ]
  },
  {
   "cell_type": "markdown",
   "id": "906ef8a4",
   "metadata": {},
   "source": [
    "15) Error in linear regression equation is the difference between actual and predicted value"
   ]
  },
  {
   "cell_type": "code",
   "execution_count": null,
   "id": "c7b6a906",
   "metadata": {},
   "outputs": [],
   "source": []
  }
 ],
 "metadata": {
  "kernelspec": {
   "display_name": "Python 3 (ipykernel)",
   "language": "python",
   "name": "python3"
  },
  "language_info": {
   "codemirror_mode": {
    "name": "ipython",
    "version": 3
   },
   "file_extension": ".py",
   "mimetype": "text/x-python",
   "name": "python",
   "nbconvert_exporter": "python",
   "pygments_lexer": "ipython3",
   "version": "3.9.12"
  }
 },
 "nbformat": 4,
 "nbformat_minor": 5
}
