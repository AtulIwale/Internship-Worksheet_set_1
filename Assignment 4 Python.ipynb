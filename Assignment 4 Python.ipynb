{
 "cells": [
  {
   "cell_type": "markdown",
   "id": "c4d20c71",
   "metadata": {},
   "source": [
    "1) C"
   ]
  },
  {
   "cell_type": "markdown",
   "id": "ee00e180",
   "metadata": {},
   "source": [
    "2) B"
   ]
  },
  {
   "cell_type": "markdown",
   "id": "8327de1f",
   "metadata": {},
   "source": [
    "3) C"
   ]
  },
  {
   "cell_type": "markdown",
   "id": "0e312b4a",
   "metadata": {},
   "source": [
    "4) A"
   ]
  },
  {
   "cell_type": "markdown",
   "id": "5ad8db66",
   "metadata": {},
   "source": [
    "5) D"
   ]
  },
  {
   "cell_type": "markdown",
   "id": "cd657149",
   "metadata": {},
   "source": [
    "6) C"
   ]
  },
  {
   "cell_type": "markdown",
   "id": "2431d56e",
   "metadata": {},
   "source": [
    "7) A"
   ]
  },
  {
   "cell_type": "markdown",
   "id": "44e963be",
   "metadata": {},
   "source": [
    "8) C"
   ]
  },
  {
   "cell_type": "markdown",
   "id": "e45ce925",
   "metadata": {},
   "source": [
    "9) A & C"
   ]
  },
  {
   "cell_type": "markdown",
   "id": "845d10f4",
   "metadata": {},
   "source": [
    "10) A & B"
   ]
  },
  {
   "cell_type": "raw",
   "id": "dcf792cf",
   "metadata": {},
   "source": [
    "#11) \n",
    "def fact(n):\n",
    "    if n == 0 or n == 1:\n",
    "        return 1\n",
    "    else:\n",
    "        return n * fact(n-1)\n",
    "    \n",
    "no = int(input(\"Enter the number: \"))\n",
    "\n",
    "if no < 0:\n",
    "    print(\"Not Defined\")\n",
    "else:\n",
    "    result = fact(no)\n",
    "    print(\"The factorial of\", no, \"is\", result)"
   ]
  },
  {
   "cell_type": "raw",
   "id": "9c3c1785",
   "metadata": {},
   "source": [
    "#12)\n",
    "def prime(n):\n",
    "    if n <= 1:\n",
    "        return False\n",
    "    for i in range(2, int(n**0.5) + 1):\n",
    "        if n % i == 0:\n",
    "            return False\n",
    "    return True\n",
    "    \n",
    "number = int(input(\"Enter a number: \"))\n",
    "\n",
    "if prime(number):\n",
    "    print(number, \"is a prime number.\")\n",
    "else:\n",
    "    print(number, \"is a composite number.\")"
   ]
  },
  {
   "cell_type": "raw",
   "id": "79177a6e",
   "metadata": {},
   "source": [
    "#13)\n",
    "def is_palindrome(string):\n",
    "    # Remove spaces and convert to lowercase\n",
    "    string = string.replace(\" \", \"\").lower()\n",
    "    # Compare the string with its reverse\n",
    "    return string == string[::-1]\n",
    "\n",
    "# Taking input from the user\n",
    "string = input(\"Enter a string: \")\n",
    "\n",
    "if is_palindrome(string):\n",
    "    print(\"The string is a palindrome.\")\n",
    "else:\n",
    "    print(\"The string is not a palindrome.\")"
   ]
  },
  {
   "cell_type": "raw",
   "id": "bff5d5c0",
   "metadata": {},
   "source": [
    "#14)\n",
    "import math\n",
    "\n",
    "def get_third_side(side1, side2):\n",
    "    third_side = math.sqrt(side1**2 + side2**2)\n",
    "    return third_side\n",
    "\n",
    "# Taking input from the user\n",
    "side1 = float(input(\"Enter the length of the first side: \"))\n",
    "side2 = float(input(\"Enter the length of the second side: \"))\n",
    "\n",
    "third_side = get_third_side(side1, side2)\n",
    "print(\"The length of the third side is:\", third_side)"
   ]
  },
  {
   "cell_type": "raw",
   "id": "4874e523",
   "metadata": {},
   "source": [
    "#15)\n",
    "def count_characters(string):\n",
    "    # Create an empty dictionary to store character frequencies\n",
    "    char_freq = {}\n",
    "\n",
    "    # Iterate through each character in the string\n",
    "    for char in string:\n",
    "        # Increment the frequency count of the character\n",
    "        char_freq[char] = char_freq.get(char, 0) + 1\n",
    "\n",
    "    # Print the character frequencies\n",
    "    for char, freq in char_freq.items():\n",
    "        print(char, \"->\", freq)\n",
    "\n",
    "# Taking input from the user\n",
    "string = input(\"Enter a string: \")\n",
    "\n",
    "print(\"Character frequencies:\")\n",
    "count_characters(string)"
   ]
  }
 ],
 "metadata": {
  "kernelspec": {
   "display_name": "Python 3 (ipykernel)",
   "language": "python",
   "name": "python3"
  },
  "language_info": {
   "codemirror_mode": {
    "name": "ipython",
    "version": 3
   },
   "file_extension": ".py",
   "mimetype": "text/x-python",
   "name": "python",
   "nbconvert_exporter": "python",
   "pygments_lexer": "ipython3",
   "version": "3.9.12"
  }
 },
 "nbformat": 4,
 "nbformat_minor": 5
}
