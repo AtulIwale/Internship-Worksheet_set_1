{
 "cells": [
  {
   "cell_type": "markdown",
   "id": "54fc0a10",
   "metadata": {},
   "source": [
    "1) A"
   ]
  },
  {
   "cell_type": "markdown",
   "id": "9edee296",
   "metadata": {},
   "source": [
    "2) A"
   ]
  },
  {
   "cell_type": "markdown",
   "id": "e363566e",
   "metadata": {},
   "source": [
    "3) B"
   ]
  },
  {
   "cell_type": "markdown",
   "id": "4a0d496b",
   "metadata": {},
   "source": [
    "4) C"
   ]
  },
  {
   "cell_type": "markdown",
   "id": "44c3409f",
   "metadata": {},
   "source": [
    "5) C"
   ]
  },
  {
   "cell_type": "markdown",
   "id": "5788a843",
   "metadata": {},
   "source": [
    "6) B"
   ]
  },
  {
   "cell_type": "markdown",
   "id": "1b49265c",
   "metadata": {},
   "source": [
    "7) B"
   ]
  },
  {
   "cell_type": "markdown",
   "id": "ae741335",
   "metadata": {},
   "source": [
    "8) A"
   ]
  },
  {
   "cell_type": "markdown",
   "id": "e53e5fd5",
   "metadata": {},
   "source": [
    "9) C"
   ]
  },
  {
   "cell_type": "markdown",
   "id": "60827e52",
   "metadata": {},
   "source": [
    "10) The term \"Normal Distribution,\" refers to a continuous probability distribution that is symmetric and follows a specific mathematical form called the Gaussian function."
   ]
  },
  {
   "cell_type": "markdown",
   "id": "c63b0156",
   "metadata": {},
   "source": [
    "11) \n",
    "Deletion: Simply remove rows or columns containing missing data\n",
    "\n",
    "Mean/Mode/Median Imputation: In this technique, missing values are replaced with the mean (for continuous variables), mode (for categorical variables), or median (for variables with skewed distributions) of the available data. This approach is simple to implement but may introduce bias if the missing values are not missing at random."
   ]
  },
  {
   "cell_type": "markdown",
   "id": "7b91a214",
   "metadata": {},
   "source": [
    "12) A/B testing, also known as split testing or bucket testing, is a method used to compare two or more variants of a specific element or feature in order to determine which one performs better."
   ]
  },
  {
   "cell_type": "markdown",
   "id": "1f2f149f",
   "metadata": {},
   "source": [
    "13) \n",
    "Mean imputation will replace missing values with a single value, the mean. This will lead to loss of variability. If missing values are not missing completely at random, this can introduce bias into the analysis. The imputation will be artifically closer to the mean, leading to affect the relationship with other variable. This can affect standard error, p-values & confidance level.\n",
    "\n",
    "When missing data is minimal, it is acceptable to use mean imputation.\n",
    "\n",
    "Finally, the coise is based on the specific data set & output goal. It is good to see the sensitivity of the result to evaluate the finding"
   ]
  },
  {
   "cell_type": "markdown",
   "id": "e38c6679",
   "metadata": {},
   "source": [
    "14)\n",
    "Linear regression is a statistical technique used to model and analyze the relationship between a dependent variable and one or more independent variables. It aims to find a linear equation that best describes the linear association between the independent variables and the dependent variable. Below is the equition for the Linear Regression\n",
    "\n",
    "Y = β0 + β1X1 + β2X2 + ... + βn*Xn"
   ]
  },
  {
   "cell_type": "markdown",
   "id": "352d003f",
   "metadata": {},
   "source": [
    "15)\n",
    "\n",
    "- Statistical Inference\n",
    "\n",
    "- Probability Theory\n",
    "\n",
    "- Regression Analysis\n",
    "\n",
    "- Classification\n",
    "\n",
    "- Cluster Analysis\n",
    "\n",
    "- Dimensionality Reduction"
   ]
  },
  {
   "cell_type": "code",
   "execution_count": null,
   "id": "96cc3aae",
   "metadata": {},
   "outputs": [],
   "source": []
  }
 ],
 "metadata": {
  "kernelspec": {
   "display_name": "Python 3 (ipykernel)",
   "language": "python",
   "name": "python3"
  },
  "language_info": {
   "codemirror_mode": {
    "name": "ipython",
    "version": 3
   },
   "file_extension": ".py",
   "mimetype": "text/x-python",
   "name": "python",
   "nbconvert_exporter": "python",
   "pygments_lexer": "ipython3",
   "version": "3.9.12"
  }
 },
 "nbformat": 4,
 "nbformat_minor": 5
}
